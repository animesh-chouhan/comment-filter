{
 "cells": [
  {
   "cell_type": "code",
   "execution_count": 45,
   "metadata": {
    "scrolled": true
   },
   "outputs": [],
   "source": [
    "import re\n",
    "import numpy as np\n",
    "import pandas as pd\n",
    "from collections import defaultdict\n",
    "from profanity_check import predict, predict_prob\n",
    "from vaderSentiment.vaderSentiment import SentimentIntensityAnalyzer\n",
    "\n",
    "#parameters\n",
    "MIN_COMMENT_LENGTH = 4;   #Flags any comment that has less than # characters\n",
    "MIN_COMMENT_WORDS = 2;    #Flags any comment that has less than # words\n",
    "PROFANITY_PROB = 0.5;     #Flags any comment that has profanity score greater than #\n",
    "\n",
    "#load dataset \n",
    "filename = './dataset/YouTube-Spam-Collection/Youtube05-Shakira.csv'\n",
    "data = pd.read_csv(filename)\n",
    "data.head()\n",
    "comments = np.array(data['CONTENT'].tolist())"
   ]
  },
  {
   "cell_type": "markdown",
   "metadata": {},
   "source": [
    "dsgsdg"
   ]
  },
  {
   "cell_type": "code",
   "execution_count": 46,
   "metadata": {},
   "outputs": [
    {
     "name": "stdout",
     "output_type": "stream",
     "text": [
      "['wow' ':)' 'wow' ':)' 'Wow' 'cool' 'WOw' 'Nice' 'wow' 'wow']\n"
     ]
    }
   ],
   "source": [
    "def length_filter(comments):\n",
    "    \"\"\"\n",
    "    length based filter\n",
    "    \"\"\"\n",
    "    flags_len=[]\n",
    "    for comment in comments: \n",
    "        if len(comment) <= MIN_COMMENT_LENGTH:\n",
    "            flags_len.append(True)\n",
    "        else:\n",
    "            flags_len.append(False)\n",
    "    return flags_len \n",
    "    \n",
    "\n",
    "print(comments[length_filter(comments)])"
   ]
  },
  {
   "cell_type": "markdown",
   "metadata": {},
   "source": []
  },
  {
   "cell_type": "code",
   "execution_count": 47,
   "metadata": {},
   "outputs": [
    {
     "name": "stdout",
     "output_type": "stream",
     "text": [
      "['Fuck it was the best ever 0687119038 nummber of patrik kluivert his son share !\\ufeff'\n",
      " 'this song sucks\\ufeff' 'THIS IS SHIT AND SOOOOO AUTOTUNED\\ufeff'\n",
      " 'Message :   GTA V  $20  FIFA 14 $15  PS4  $200  Galaxy S4 mini $250  Ipad 4   $200  visit the site hh.nl'\n",
      " 'Your a fucking bitch'\n",
      " '  Perhaps you have seen the newest Miley Cyrus SECRET video ?   She&#39;s sucking an old man&#39;s cock ,  If you wish to see her , check out the celebrity website beneath :   miley-secret-video.co.uk '\n",
      " ' I really can&#39;t comprehend Miley Cyrus , she actually is a high profile and she tapes herself banging Today a video was leeched with her sucking and fucking The video has been posted at the celebrity website under :  miley-celeb-news.co.uk '\n",
      " 'WOW muslims are really egoistic..... 23% of the World population and not in this video or donating 1 dollar to the poor ones in Africa :( shame on those terrorist muslims'\n",
      " 'Hey, hit this shit up while yall can, they killed the versace remix. Just type in CGE &quot;Versace Freestyle (Get Money)&quot; Shot by Ja-Wan Gardner and help them reach 1 million views.']\n"
     ]
    }
   ],
   "source": [
    "def profanity_filter(comments):\n",
    "    \"\"\"\n",
    "    profanity filter\n",
    "    \"\"\"\n",
    "    flags_profanity = predict_prob(comments) > PROFANITY_PROB\n",
    "    return flags_profanity\n",
    "\n",
    "\n",
    "print(comments[profanity_filter(comments)])"
   ]
  },
  {
   "cell_type": "markdown",
   "metadata": {},
   "source": []
  },
  {
   "cell_type": "code",
   "execution_count": 54,
   "metadata": {
    "scrolled": true
   },
   "outputs": [
    {
     "data": {
      "text/plain": [
       "['I really love watching football and also I’ve started off making income with out financial risk from acquiring bonus deals. It’s this weird technique where you wager on something with one bookmakers and bet against it on Betfair. You secure the bonus as income . A chap named Jim Vanstone is finding the wagers free on his own website Vanstone Secrets (Google it!). I’ve made about 500 quid thus far. And it is cost-free. I guess the bookies pay him to obtain new consumers, yet this actually works.',\n",
       " 'I really love watching football and also I’ve started off making income with out financial risk from acquiring bonus deals. It’s this weird technique where you wager on something with one bookmakers and bet against it on Betfair. You secure the bonus as income . A chap named Jim Vanstone is finding the wagers free on his own website Vanstone Secrets (Google it!). I’ve made about 500 quid thus far. And it is cost-free. I guess the bookies pay him to obtain new consumers, yet this actually works.',\n",
       " 'I really love watching football and also I’ve started off making income with out financial risk from acquiring bonus deals. It’s this weird technique where you wager on something with one bookmakers and bet against it on Betfair. You secure the bonus as income . A chap named Jim Vanstone is finding the wagers free on his own website Vanstone Secrets (Google it!). I’ve made about 500 quid thus far. And it is cost-free. I guess the bookies pay him to obtain new consumers, yet this actually works.',\n",
       " 'I absolutely adore watching football plus I’ve started earning income with out risk from claiming bonus deals. It’s a weird technique where you put money on something with one bookmakers and put money against it on Betfair. You acquire the bonus as income . A lad named Jim Vanstone is selecting the wagers free on his website Vanstone Secrets (Google it!). I have generated about 600 quid so far. And it’s free. I assume the bookmakers pay him to get new men and women, but it succeeds.',\n",
       " 'I absolutely adore watching football plus I’ve started earning income with out risk from claiming bonus deals. It’s a weird technique where you put money on something with one bookmakers and put money against it on Betfair. You acquire the bonus as income . A lad named Jim Vanstone is selecting the wagers free on his website Vanstone Secrets (Google it!). I have generated about 600 quid so far. And it’s free. I assume the bookmakers pay him to get new men and women, but it succeeds.',\n",
       " 'I absolutely adore watching football plus I’ve started earning income with out risk from claiming bonus deals. It’s a weird technique where you put money on something with one bookmakers and put money against it on Betfair. You acquire the bonus as income . A lad named Jim Vanstone is selecting the wagers free on his website Vanstone Secrets (Google it!). I have generated about 600 quid so far. And it’s free. I assume the bookmakers pay him to get new men and women, but it succeeds.',\n",
       " 'Hi there, have you heard about DribbleProShot? Just do a search on Google. On their web site you can watch a smart free video featuring the best way to significantly boost your football aka soccer skills in no time... It turned Nick into a much better football or soccer player...His team mates were definitily amazed! I hope it will help you also...',\n",
       " 'Hey, have you tried &quot;DribblePROshot&quot; yet? Just do a search on Google. On their website you will find a useful free video demonstrating the right way to enormously improve your soccer or football skills in no time... It transformed Fausto into a substantially better football/soccer player...to the amazement of his team mates. Hopefully it works for you too.',\n",
       " 'Hey guys whats up? I found this app that lets you get free gift card vouchers like psn cards,X-box live cards and even amazon gift cards. For free! All you have to do is  simply just download the app from the app store. It is called juno wallet. All you have to do is just sign up for the app and then complete a few surveys or just download some other free apps and you get money like 10 cents. Also, if you type in the code IM2458444. You will also start off with $0.25 free!! ',\n",
       " 'Hey guys whats up? I found this app that lets you get free gift card vouchers like psn cards,X-box live cards and even amazon gift cards. For free! All you have to do is  simply just download the app from the app store. It is called juno wallet. All you have to do is just sign up for the app and then complete a few surveys or just download some other free apps and you get money like 10 cents. Also, if you type in the code IM2458444. You will also start off with $0.25 free!! ',\n",
       " 'Could you please check out my covers on my channel? I do covers like Adele, Kodaline, Imagine Dragons...and more. Please if you could spare a few minutes,  could you have a listen to one or two of my covers , Feel free to comment and subscribe :) Thank you! ',\n",
       " 'Nice to meet You - this is Johnny: 1. If You already know my music - thumb this up, because You found it this way, too. 2. If You want to hear original songs completely made by 1 person, continue reading:  I sing, write original music+lyrics &amp; play guitar, bass, drums &amp; keyboards. I&#39;m a 1-man-band. My music is completely independent &amp; 100% listener-supported. If You want to hear it &amp; if You&#39;re willing to help record new album - click on my name/picture.  Enjoy the music - wish You awesome day!',\n",
       " 'Hi -this is Johnny: 1. If You already know my music - thumb this up, because You found it this way, too. 2. If You want to hear original songs completely made by 1 person, continue reading:  I sing, write original music+lyrics &amp; play guitar, bass, drums &amp; keyboards. I&#39;m a 1-man-band. My music is completely independent &amp; 100% listener-supported. If You want to hear it &amp; if You&#39;re willing to help record new album - click on my name/picture.  Thank You &amp; enjoy the music - wish You awesome day!']"
      ]
     },
     "execution_count": 54,
     "metadata": {},
     "output_type": "execute_result"
    }
   ],
   "source": [
    "def dict_filter(comments):\n",
    "    \"\"\"\n",
    "    dictionary based filter\n",
    "    \"\"\"\n",
    "    path1 = './dataset/hindi_dict.txt'\n",
    "    path2 = './dataset/english_dict.txt'\n",
    "    path3 = './dataset/spam_ads_dict.txt'\n",
    "    path4 = './dataset/blacklist_dict.txt'\n",
    "    with open(path1) as f1, open(path2) as f2, open(path3) as f3, open(path4) as f4:\n",
    "        content_hi = f1.read()\n",
    "        content_en = f2.read()\n",
    "        content_spam = f3.read()\n",
    "        content_black = f4.read()\n",
    "\n",
    "    words_hi = content_hi.split(\"\\n\")\n",
    "    words_en = content_en.split(\"\\n\")\n",
    "    words_spam = content_spam.split(\"\\n\")\n",
    "    words_black = content_black.split(\"\\n\")\n",
    "\n",
    "    filtered_comments = defaultdict(list)\n",
    "    \n",
    "    for comment in comments: \n",
    "        for word in words_hi:\n",
    "            pattern = re.compile(word)\n",
    "            match1 = pattern.search(comment.lower())\n",
    "            if match1 is not None :\n",
    "                for w in comment.split(' '):\n",
    "                    match2 = re.fullmatch(pattern, w.lower())\n",
    "                    if match2 is not None :\n",
    "                        filtered_comments['hindi'].append(comment)\n",
    "                        #print(\"{:-<20} {}\".format(word, comment))\n",
    "\n",
    "    #nsfw english filter\n",
    "    filter_words_en = []\n",
    "    for comment in comments: \n",
    "        for word in words_en:\n",
    "            pattern = re.compile(word)\n",
    "            match1 = pattern.search(comment.lower())\n",
    "            if match1 is not None :\n",
    "                for w in comment.split(' '):\n",
    "                    match2 = re.fullmatch(pattern, w.lower())\n",
    "                    if match2 is not None :\n",
    "                        filtered_comments['english'].append(comment)\n",
    "                        #print(\"{:-<20} {}\".format(word, comment))    \n",
    "                 \n",
    "    #spam filter\n",
    "    for comment in comments: \n",
    "        for word in words_spam:\n",
    "            pattern = re.compile(word)\n",
    "            match1 = pattern.search(comment.lower())\n",
    "            if match1 is not None :\n",
    "                for w in comment.split(' '):\n",
    "                    match2 = re.fullmatch(pattern, w.lower())\n",
    "                    if match2 is not None :\n",
    "                        filtered_comments['spam'].append(comment)\n",
    "                        #print(\"{:-<20} {}\".format(word, comment))\n",
    "                        \n",
    "\n",
    "    #blacklist filter\n",
    "    for comment in comments: \n",
    "        for word in words_black:\n",
    "            pattern = re.compile(word)\n",
    "            match1 = pattern.search(comment.lower())\n",
    "            if match1 is not None :\n",
    "                for w in comment.split(' '):\n",
    "                    match2 = re.fullmatch(pattern, w.lower())\n",
    "                    if match2 is not None :\n",
    "                        filtered_comments['blacklist'].append(comment)\n",
    "                        #print(\"{}\".format(comment))\n",
    "                        \n",
    "    return filtered_comments\n",
    "\n",
    "dict_filter(comments)['spam']\n"
   ]
  },
  {
   "cell_type": "markdown",
   "metadata": {},
   "source": []
  },
  {
   "cell_type": "code",
   "execution_count": 64,
   "metadata": {},
   "outputs": [
    {
     "data": {
      "text/plain": [
       "array(['Why there are so many dislikes. This song is so... awesome. It sounds like we MUST STOP BE RACISTS!!! If I could, I would like it 1,000,000,000 times!!!!!!!!!!!!!!!!!!!!!!!!!!!!!!!!!!!!!!!!!!!!!!\\ufeff',\n",
       "       'I really am madly in love with this woman!!\\ufeff',\n",
       "       'How could 108k people dislike this song or video\\ufeff',\n",
       "       'it pisses me off a bit that blank space has more views (868 mio) than this. meh \\ufeff',\n",
       "       'I believe that soccer promotes terrorism. Bad choice, Shakira.\\ufeff',\n",
       "       '5 years ago damn \\ufeff',\n",
       "       'So underrated better<br />Than  Katy perry :/ but in not saying Katy is bad but she has no meaning to her songs. Shakira has<br />Meaningful songs these are the songs which bring memories and vibe&#39;s. I will miss it.   <br />   \\ufeff',\n",
       "       'Hi, nice song Shakira! (Sorry for bad Brazilian)\\ufeff',\n",
       "       'THIS IS SHIT AND SOOOOO AUTOTUNED\\ufeff', 'Your a fucking bitch',\n",
       "       'this song is racist', 'This makes me miss the world cup',\n",
       "       'I want to see Shakira, not football :)',\n",
       "       'WOW muslims are really egoistic..... 23% of the World population and not in this video or donating 1 dollar to the poor ones in Africa :( shame on those terrorist muslims',\n",
       "       'Hey, hit this shit up while yall can, they killed the versace remix. Just type in CGE &quot;Versace Freestyle (Get Money)&quot; Shot by Ja-Wan Gardner and help them reach 1 million views.',\n",
       "       'O peoples of the earth, I have seen how you perform every form of evil at your leisure! You cease not from reveling in that which I hate! Behold, you murder the innocent day and night and plot evil against your neighbor! You stand up for the rights of those who commit abomination and clap your hands as wickedness is celebrated openly in the streets!... O MOST PERVERSE AND ABOMINABLE GENERATION, SHALL I NOT REPAY?!  Hear the Word of The Lord - TrumpetCallOfGodOnline.  co m'],\n",
       "      dtype='<U1125')"
      ]
     },
     "execution_count": 64,
     "metadata": {},
     "output_type": "execute_result"
    }
   ],
   "source": [
    "def senti_filter(comments):\n",
    "    \"\"\"\n",
    "    sentiment based filter\n",
    "    \"\"\"\n",
    "    flags_senti = []\n",
    "    analyzer = SentimentIntensityAnalyzer()  \n",
    "    for comment in comments: \n",
    "        score = analyzer.polarity_scores(comment)\n",
    "        if score['neg'] > 0.2:\n",
    "            flags_senti.append(True)\n",
    "        else:\n",
    "            flags_senti.append(False)\n",
    "\n",
    "    return comments[flags_senti]\n",
    "\n",
    "senti_filter(comments)\n",
    "\n",
    "# sentiment_analyzer = SentimentIntensityAnalyzer()    \n",
    "# score = sentiment_analyzer.polarity_scores(\"this is fucking amazing\")\n",
    "# print(score)\n",
    "\n",
    "# for comment in dict_filter(comments)['english']: \n",
    "#     score = sentiment_analyzer.polarity_scores(comment)\n",
    "#     if score['compound'] > 0:\n",
    "#         print(comment, score)\n",
    "\n"
   ]
  },
  {
   "cell_type": "code",
   "execution_count": null,
   "metadata": {},
   "outputs": [],
   "source": []
  }
 ],
 "metadata": {
  "kernelspec": {
   "display_name": "Python 3",
   "language": "python",
   "name": "python3"
  },
  "language_info": {
   "codemirror_mode": {
    "name": "ipython",
    "version": 3
   },
   "file_extension": ".py",
   "mimetype": "text/x-python",
   "name": "python",
   "nbconvert_exporter": "python",
   "pygments_lexer": "ipython3",
   "version": "3.6.8"
  }
 },
 "nbformat": 4,
 "nbformat_minor": 2
}
